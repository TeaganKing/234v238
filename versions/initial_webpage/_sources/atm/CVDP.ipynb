{
 "cells": [
  {
   "cell_type": "markdown",
   "id": "623cbc23-45bf-4dfd-9f49-8d814d0394ba",
   "metadata": {
    "papermill": {
     "duration": 0.002951,
     "end_time": "2025-10-27T20:58:35.014405",
     "exception": false,
     "start_time": "2025-10-27T20:58:35.011454",
     "status": "completed"
    },
    "tags": []
   },
   "source": [
    "# CVDP\n",
    "\n",
    "A number of plots are provided from CVDP. The full output from the stand-alone CDVP configuration is in the link below.\n",
    "\n",
    "\n",
    "Note that in standalone format (eg, CUPiD run not through CESM workflow), CVDP is currently run by users via ADF with the following process:\n",
    "1) Install ADF and activate cupid-analysis\n",
    "2) Use the `CUPiD/helper_scripts/generate_adf_config_file.py` script to generate an ADF config file based on a CUPiD configuration file.\n",
    "   * `cd CUPiD/examples/external_diag_packages`\n",
    "   * `../../helper_scripts/generate_adf_config_file.py --cupid-config-loc . --adf-template ../../externals/ADF/config_amwg_default_plots.yaml --out-file ADF_config.yaml`\n",
    "3) Run ADF with the newly created configuration file.\n",
    "   * `../../externals/ADF/run_adf_diag ADF_config.yaml`"
   ]
  },
  {
   "cell_type": "code",
   "execution_count": 1,
   "id": "82af7435-3849-4fd1-bb2d-2e062719ec5b",
   "metadata": {
    "editable": true,
    "execution": {
     "iopub.execute_input": "2025-10-27T20:58:35.020668Z",
     "iopub.status.busy": "2025-10-27T20:58:35.020355Z",
     "iopub.status.idle": "2025-10-27T20:58:35.285338Z",
     "shell.execute_reply": "2025-10-27T20:58:35.284905Z"
    },
    "papermill": {
     "duration": 0.269711,
     "end_time": "2025-10-27T20:58:35.286703",
     "exception": false,
     "start_time": "2025-10-27T20:58:35.016992",
     "status": "completed"
    },
    "slideshow": {
     "slide_type": ""
    },
    "tags": [
     "hide-cell"
    ]
   },
   "outputs": [],
   "source": [
    "import os\n",
    "\n",
    "from IPython.core.display import HTML, Image\n",
    "from IPython.display import display\n",
    "import pandas as pd"
   ]
  },
  {
   "cell_type": "code",
   "execution_count": 2,
   "id": "2a759f1b-eca7-4eec-a16a-eede1a6ab36c",
   "metadata": {
    "editable": true,
    "execution": {
     "iopub.execute_input": "2025-10-27T20:58:35.294660Z",
     "iopub.status.busy": "2025-10-27T20:58:35.294316Z",
     "iopub.status.idle": "2025-10-27T20:58:35.297557Z",
     "shell.execute_reply": "2025-10-27T20:58:35.297058Z"
    },
    "papermill": {
     "duration": 0.006884,
     "end_time": "2025-10-27T20:58:35.298147",
     "exception": false,
     "start_time": "2025-10-27T20:58:35.291263",
     "status": "completed"
    },
    "slideshow": {
     "slide_type": ""
    },
    "tags": [
     "parameters",
     "hide-cell"
    ]
   },
   "outputs": [],
   "source": [
    "cvdp_root = \".\"\n",
    "case_name = None\n",
    "key_plots = None\n",
    "# cvdp_root will be external_diag_packages/computed_notebooks/CVDP/"
   ]
  },
  {
   "cell_type": "code",
   "execution_count": 3,
   "id": "49564e0c",
   "metadata": {
    "execution": {
     "iopub.execute_input": "2025-10-27T20:58:35.301191Z",
     "iopub.status.busy": "2025-10-27T20:58:35.300955Z",
     "iopub.status.idle": "2025-10-27T20:58:35.309440Z",
     "shell.execute_reply": "2025-10-27T20:58:35.309120Z"
    },
    "papermill": {
     "duration": 0.010898,
     "end_time": "2025-10-27T20:58:35.310147",
     "exception": false,
     "start_time": "2025-10-27T20:58:35.299249",
     "status": "completed"
    },
    "tags": [
     "injected-parameters"
    ]
   },
   "outputs": [],
   "source": [
    "# Parameters\n",
    "case_name = \"b.e30_alpha07c_cesm.B1850C_LTso.ne30_t232_wgx3.238\"\n",
    "base_case_name = \"b.e30_alpha07c_cesm.B1850C_LTso.ne30_t232_wgx3.234\"\n",
    "CESM_output_dir = \"/glade/campaign/cesm/development/cross-wg/diagnostic_framework/CESM_output_for_testing\"\n",
    "start_date = \"0001-01-01\"\n",
    "end_date = \"0045-01-01\"\n",
    "base_start_date = \"0001-01-01\"\n",
    "base_end_date = \"0081-01-01\"\n",
    "obs_data_dir = (\n",
    "    \"/glade/campaign/cesm/development/cross-wg/diagnostic_framework/CUPiD_obs_data\"\n",
    ")\n",
    "ts_dir = None\n",
    "lc_kwargs = {\"threads_per_worker\": 1}\n",
    "serial = False\n",
    "cvdp_root = \"../../examples/key_metrics/CVDP_output/\"\n",
    "key_plots = [\n",
    "    \"nino34.spatialcomp.djf1.png\",\n",
    "    \"nino34.hov.elnino.png\",\n",
    "    \"nino34.hov.lanina.png\",\n",
    "    \"sst.stddev.djf.png\",\n",
    "    \"nino34.monstddev.png\",\n",
    "]\n",
    "subset_kwargs = {}\n",
    "product = \"/glade/work/tking/cupid_project/other_cupids/234v238/CUPiD/examples/key_metrics/computed_notebooks//atm/CVDP.ipynb\"\n"
   ]
  },
  {
   "cell_type": "code",
   "execution_count": 4,
   "id": "ee0774cc-c68a-4385-b94c-08fa806f28c0",
   "metadata": {
    "editable": true,
    "execution": {
     "iopub.execute_input": "2025-10-27T20:58:35.314421Z",
     "iopub.status.busy": "2025-10-27T20:58:35.314149Z",
     "iopub.status.idle": "2025-10-27T20:58:35.323188Z",
     "shell.execute_reply": "2025-10-27T20:58:35.322878Z"
    },
    "papermill": {
     "duration": 0.012742,
     "end_time": "2025-10-27T20:58:35.324590",
     "exception": false,
     "start_time": "2025-10-27T20:58:35.311848",
     "status": "completed"
    },
    "slideshow": {
     "slide_type": ""
    },
    "tags": [
     "hide-input"
    ]
   },
   "outputs": [
    {
     "data": {
      "text/html": [
       "<a href=\"../CVDP/b.e30_alpha07c_cesm.B1850C_LTso.ne30_t232_wgx3.238/output/index.html\" target=\"_blank\">Full CVDP output</a>"
      ],
      "text/plain": [
       "<IPython.core.display.HTML object>"
      ]
     },
     "metadata": {},
     "output_type": "display_data"
    }
   ],
   "source": [
    "cvdp_case_name = f\"{case_name}\"\n",
    "cvdp_root = os.path.join(cvdp_root, cvdp_case_name, \"output/\")\n",
    "display(\n",
    "    HTML(\n",
    "        f'<a href=\"../CVDP/{cvdp_case_name}/output/index.html\" target=\"_blank\">Full CVDP output</a>'\n",
    "    )\n",
    ")"
   ]
  },
  {
   "cell_type": "markdown",
   "id": "f9234aec-1fe5-4bbf-ad6c-fb565297afbe",
   "metadata": {
    "papermill": {
     "duration": 0.002516,
     "end_time": "2025-10-27T20:58:35.330059",
     "exception": false,
     "start_time": "2025-10-27T20:58:35.327543",
     "status": "completed"
    },
    "tags": []
   },
   "source": [
    "## Key Metrics from CVDP\n",
    "\n",
    "Some important things to look at from the CVDP:"
   ]
  },
  {
   "cell_type": "code",
   "execution_count": 5,
   "id": "f877ed8e-bca3-4256-8010-69aad302bb32",
   "metadata": {
    "editable": true,
    "execution": {
     "iopub.execute_input": "2025-10-27T20:58:35.334907Z",
     "iopub.status.busy": "2025-10-27T20:58:35.334614Z",
     "iopub.status.idle": "2025-10-27T20:58:35.342345Z",
     "shell.execute_reply": "2025-10-27T20:58:35.342048Z"
    },
    "papermill": {
     "duration": 0.010232,
     "end_time": "2025-10-27T20:58:35.342845",
     "exception": false,
     "start_time": "2025-10-27T20:58:35.332613",
     "status": "completed"
    },
    "slideshow": {
     "slide_type": ""
    },
    "tags": [
     "hide-input"
    ]
   },
   "outputs": [],
   "source": [
    "for path_to_key_plot in key_plots:\n",
    "    full_path = os.path.join(cvdp_root, path_to_key_plot)\n",
    "    if os.path.isfile(full_path):\n",
    "        display(Image(full_path))"
   ]
  }
 ],
 "metadata": {
  "kernelspec": {
   "display_name": "cupid-infrastructure",
   "language": "python",
   "name": "cupid-infrastructure"
  },
  "language_info": {
   "codemirror_mode": {
    "name": "ipython",
    "version": 3
   },
   "file_extension": ".py",
   "mimetype": "text/x-python",
   "name": "python",
   "nbconvert_exporter": "python",
   "pygments_lexer": "ipython3",
   "version": "3.11.4"
  },
  "papermill": {
   "duration": 1.190896,
   "end_time": "2025-10-27T20:58:35.562056",
   "exception": null,
   "input_path": "/glade/derecho/scratch/tking/tmp/tmpnxvrqgkh.ipynb",
   "output_path": "/glade/work/tking/cupid_project/other_cupids/234v238/CUPiD/examples/key_metrics/computed_notebooks/atm/CVDP.ipynb",
   "parameters": {
    "CESM_output_dir": "/glade/campaign/cesm/development/cross-wg/diagnostic_framework/CESM_output_for_testing",
    "base_case_name": "b.e30_alpha07c_cesm.B1850C_LTso.ne30_t232_wgx3.234",
    "base_end_date": "0081-01-01",
    "base_start_date": "0001-01-01",
    "case_name": "b.e30_alpha07c_cesm.B1850C_LTso.ne30_t232_wgx3.238",
    "cvdp_root": "../../examples/key_metrics/CVDP_output/",
    "end_date": "0045-01-01",
    "key_plots": [
     "nino34.spatialcomp.djf1.png",
     "nino34.hov.elnino.png",
     "nino34.hov.lanina.png",
     "sst.stddev.djf.png",
     "nino34.monstddev.png"
    ],
    "lc_kwargs": {
     "threads_per_worker": 1
    },
    "obs_data_dir": "/glade/campaign/cesm/development/cross-wg/diagnostic_framework/CUPiD_obs_data",
    "product": "/glade/work/tking/cupid_project/other_cupids/234v238/CUPiD/examples/key_metrics/computed_notebooks//atm/CVDP.ipynb",
    "serial": false,
    "start_date": "0001-01-01",
    "subset_kwargs": {},
    "ts_dir": null
   },
   "start_time": "2025-10-27T20:58:34.371160"
  }
 },
 "nbformat": 4,
 "nbformat_minor": 5
}