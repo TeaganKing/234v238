{
 "cells": [
  {
   "cell_type": "markdown",
   "id": "623cbc23-45bf-4dfd-9f49-8d814d0394ba",
   "metadata": {
    "papermill": {
     "duration": 0.0035,
     "end_time": "2025-10-27T20:59:28.160349",
     "exception": false,
     "start_time": "2025-10-27T20:59:28.156849",
     "status": "completed"
    },
    "tags": []
   },
   "source": [
    "# ILAMB\n",
    "\n",
    "The output from ILAMB is in the link below.\n",
    "\n",
    "\n",
    "Note that ILAMB is currently run by users via the following process:\n",
    "1) Install ILAMB\n",
    "2) Use the `CUPiD/helper_scripts/generate_ilamb_config_files.py` script to generate ILAMB config files based on a CUPiD configuration file.\n",
    "   * `cd CUPiD/examples/external_diag_packages`\n",
    "   * `../../helper_scripts/generate_ilamb_config_files.py --cupid-config-loc . --run-type RUN_TYPE`\n",
    "4) Run ILAMB with the newly created configuration file.\n",
    "   * `qinteractive -l select=1:ncpus=1:mpiprocs=1:mem=100G -l walltime=06:00:00` (specific for NCAR users)\n",
    "   * follow the printed instructions"
   ]
  },
  {
   "cell_type": "code",
   "execution_count": 1,
   "id": "82af7435-3849-4fd1-bb2d-2e062719ec5b",
   "metadata": {
    "editable": true,
    "execution": {
     "iopub.execute_input": "2025-10-27T20:59:28.166221Z",
     "iopub.status.busy": "2025-10-27T20:59:28.165901Z",
     "iopub.status.idle": "2025-10-27T20:59:28.174264Z",
     "shell.execute_reply": "2025-10-27T20:59:28.173865Z"
    },
    "papermill": {
     "duration": 0.011475,
     "end_time": "2025-10-27T20:59:28.174838",
     "exception": false,
     "start_time": "2025-10-27T20:59:28.163363",
     "status": "completed"
    },
    "slideshow": {
     "slide_type": ""
    },
    "tags": [
     "hide-cell"
    ]
   },
   "outputs": [],
   "source": [
    "import os\n",
    "\n",
    "from IPython.core.display import HTML, Image\n",
    "from IPython.display import display"
   ]
  },
  {
   "cell_type": "code",
   "execution_count": 2,
   "id": "2a759f1b-eca7-4eec-a16a-eede1a6ab36c",
   "metadata": {
    "editable": true,
    "execution": {
     "iopub.execute_input": "2025-10-27T20:59:28.177867Z",
     "iopub.status.busy": "2025-10-27T20:59:28.177761Z",
     "iopub.status.idle": "2025-10-27T20:59:28.186794Z",
     "shell.execute_reply": "2025-10-27T20:59:28.186483Z"
    },
    "papermill": {
     "duration": 0.011167,
     "end_time": "2025-10-27T20:59:28.187374",
     "exception": false,
     "start_time": "2025-10-27T20:59:28.176207",
     "status": "completed"
    },
    "slideshow": {
     "slide_type": ""
    },
    "tags": [
     "parameters",
     "hide-cell"
    ]
   },
   "outputs": [],
   "source": [
    "ilamb_root = \".\"\n",
    "case_name = None\n",
    "base_case_name = None\n",
    "start_date = \"\"\n",
    "end_date = \"\"\n",
    "base_start_date = None\n",
    "base_end_date = None\n",
    "key_plots = None\n",
    "print_table = False\n",
    "# ilamb_root will be external_diag_packages/computed_notebooks/ILAMB/"
   ]
  },
  {
   "cell_type": "code",
   "execution_count": 3,
   "id": "198f550a",
   "metadata": {
    "execution": {
     "iopub.execute_input": "2025-10-27T20:59:28.190439Z",
     "iopub.status.busy": "2025-10-27T20:59:28.190331Z",
     "iopub.status.idle": "2025-10-27T20:59:28.220573Z",
     "shell.execute_reply": "2025-10-27T20:59:28.220011Z"
    },
    "papermill": {
     "duration": 0.033141,
     "end_time": "2025-10-27T20:59:28.221878",
     "exception": false,
     "start_time": "2025-10-27T20:59:28.188737",
     "status": "completed"
    },
    "tags": [
     "injected-parameters"
    ]
   },
   "outputs": [],
   "source": [
    "# Parameters\n",
    "case_name = \"b.e30_alpha07c_cesm.B1850C_LTso.ne30_t232_wgx3.238\"\n",
    "base_case_name = \"b.e30_alpha07c_cesm.B1850C_LTso.ne30_t232_wgx3.234\"\n",
    "CESM_output_dir = \"/glade/campaign/cesm/development/cross-wg/diagnostic_framework/CESM_output_for_testing\"\n",
    "start_date = \"0001-01-01\"\n",
    "end_date = \"0045-01-01\"\n",
    "base_start_date = \"0001-01-01\"\n",
    "base_end_date = \"0081-01-01\"\n",
    "obs_data_dir = (\n",
    "    \"/glade/campaign/cesm/development/cross-wg/diagnostic_framework/CUPiD_obs_data\"\n",
    ")\n",
    "ts_dir = None\n",
    "lc_kwargs = {\"threads_per_worker\": 1}\n",
    "serial = False\n",
    "ilamb_root = \"../../examples/key_metrics/ILAMB_output\"\n",
    "key_plots = [\n",
    "    \"EcosystemandCarbonCycle/GrossPrimaryProductivity/FLUXCOM/*_global_bias.png\",\n",
    "    \"EcosystemandCarbonCycle/LeafAreaIndex/AVHRR/*1_global_bias.png\",\n",
    "    \"EcosystemandCarbonCycle/GlobalNetEcosystemCarbonBalance/GCP/*_global_accumulate.png\",\n",
    "    \"HydrologyCycle/Permafrost/Brown2002/*_global_bias.png\",\n",
    "]\n",
    "print_table = True\n",
    "subset_kwargs = {}\n",
    "product = \"/glade/work/tking/cupid_project/other_cupids/234v238/CUPiD/examples/key_metrics/computed_notebooks//lnd/ILAMB.ipynb\"\n"
   ]
  },
  {
   "cell_type": "code",
   "execution_count": 4,
   "id": "81bf4573-8806-486f-a2f6-79e244415c07",
   "metadata": {
    "editable": true,
    "execution": {
     "iopub.execute_input": "2025-10-27T20:59:28.228752Z",
     "iopub.status.busy": "2025-10-27T20:59:28.228533Z",
     "iopub.status.idle": "2025-10-27T20:59:28.231895Z",
     "shell.execute_reply": "2025-10-27T20:59:28.231485Z"
    },
    "papermill": {
     "duration": 0.007891,
     "end_time": "2025-10-27T20:59:28.232985",
     "exception": false,
     "start_time": "2025-10-27T20:59:28.225094",
     "status": "completed"
    },
    "slideshow": {
     "slide_type": ""
    },
    "tags": [
     "hide-cell"
    ]
   },
   "outputs": [],
   "source": [
    "# Want some base case parameter defaults to equal control case values\n",
    "if base_case_name is not None:\n",
    "    if base_start_date is None:\n",
    "        base_start_date = start_date\n",
    "\n",
    "    if base_end_date is None:\n",
    "        base_end_date = end_date"
   ]
  },
  {
   "cell_type": "code",
   "execution_count": 5,
   "id": "4104f878-a8c3-4d0f-8c00-555e6b2b3273",
   "metadata": {
    "editable": true,
    "execution": {
     "iopub.execute_input": "2025-10-27T20:59:28.240334Z",
     "iopub.status.busy": "2025-10-27T20:59:28.240016Z",
     "iopub.status.idle": "2025-10-27T20:59:28.244313Z",
     "shell.execute_reply": "2025-10-27T20:59:28.243747Z"
    },
    "papermill": {
     "duration": 0.008877,
     "end_time": "2025-10-27T20:59:28.244904",
     "exception": false,
     "start_time": "2025-10-27T20:59:28.236027",
     "status": "completed"
    },
    "slideshow": {
     "slide_type": ""
    },
    "tags": [
     "hide-cell"
    ]
   },
   "outputs": [],
   "source": [
    "# convert start-date and end-date to year range\n",
    "case_year_range = [int(start_date.split(\"-\")[0]), int(end_date.split(\"-\")[0]) - 1]\n",
    "\n",
    "base_case_year_range = [\n",
    "    int(base_start_date.split(\"-\")[0]),\n",
    "    int(base_end_date.split(\"-\")[0]) - 1,\n",
    "]"
   ]
  },
  {
   "cell_type": "code",
   "execution_count": 6,
   "id": "ee0774cc-c68a-4385-b94c-08fa806f28c0",
   "metadata": {
    "editable": true,
    "execution": {
     "iopub.execute_input": "2025-10-27T20:59:28.248405Z",
     "iopub.status.busy": "2025-10-27T20:59:28.248159Z",
     "iopub.status.idle": "2025-10-27T20:59:28.259571Z",
     "shell.execute_reply": "2025-10-27T20:59:28.259049Z"
    },
    "papermill": {
     "duration": 0.013959,
     "end_time": "2025-10-27T20:59:28.260219",
     "exception": false,
     "start_time": "2025-10-27T20:59:28.246260",
     "status": "completed"
    },
    "slideshow": {
     "slide_type": ""
    },
    "tags": [
     "hide-input"
    ]
   },
   "outputs": [
    {
     "data": {
      "text/html": [
       "<a href=\"../ILAMB/index.html\">Full ILAMB output</a>"
      ],
      "text/plain": [
       "<IPython.core.display.HTML object>"
      ]
     },
     "metadata": {},
     "output_type": "display_data"
    }
   ],
   "source": [
    "display(HTML('<a href=\"../ILAMB/index.html\">Full ILAMB output</a>'))"
   ]
  },
  {
   "cell_type": "markdown",
   "id": "f9234aec-1fe5-4bbf-ad6c-fb565297afbe",
   "metadata": {
    "papermill": {
     "duration": 0.003407,
     "end_time": "2025-10-27T20:59:28.265918",
     "exception": false,
     "start_time": "2025-10-27T20:59:28.262511",
     "status": "completed"
    },
    "tags": []
   },
   "source": [
    "## Key Metrics from ILAMB\n",
    "\n",
    "Some important things to look at from ILAMB:"
   ]
  },
  {
   "cell_type": "code",
   "execution_count": 7,
   "id": "be819352-c723-4f48-afac-d93f6d192f96",
   "metadata": {
    "editable": true,
    "execution": {
     "iopub.execute_input": "2025-10-27T20:59:28.272133Z",
     "iopub.status.busy": "2025-10-27T20:59:28.271858Z",
     "iopub.status.idle": "2025-10-27T20:59:28.278187Z",
     "shell.execute_reply": "2025-10-27T20:59:28.277605Z"
    },
    "papermill": {
     "duration": 0.009283,
     "end_time": "2025-10-27T20:59:28.278869",
     "exception": false,
     "start_time": "2025-10-27T20:59:28.269586",
     "status": "completed"
    },
    "slideshow": {
     "slide_type": ""
    },
    "tags": [
     "hide-input"
    ]
   },
   "outputs": [],
   "source": [
    "for path_to_key_plot in key_plots:\n",
    "    full_path = os.path.join(ilamb_root, path_to_key_plot)\n",
    "    if os.path.isfile(full_path):\n",
    "        print(full_path)\n",
    "        display(Image(full_path))"
   ]
  },
  {
   "cell_type": "code",
   "execution_count": 8,
   "id": "de0bc64c",
   "metadata": {
    "execution": {
     "iopub.execute_input": "2025-10-27T20:59:28.283614Z",
     "iopub.status.busy": "2025-10-27T20:59:28.283496Z",
     "iopub.status.idle": "2025-10-27T20:59:28.302202Z",
     "shell.execute_reply": "2025-10-27T20:59:28.301669Z"
    },
    "papermill": {
     "duration": 0.022207,
     "end_time": "2025-10-27T20:59:28.303186",
     "exception": false,
     "start_time": "2025-10-27T20:59:28.280979",
     "status": "completed"
    },
    "tags": []
   },
   "outputs": [
    {
     "name": "stderr",
     "output_type": "stream",
     "text": [
      "/glade/work/tking/conda-envs/cupid-analysis/lib/python3.11/site-packages/IPython/core/display.py:447: UserWarning: Consider using IPython.display.IFrame instead\n",
      "  warnings.warn(\"Consider using IPython.display.IFrame instead\")\n"
     ]
    },
    {
     "data": {
      "text/html": [
       "<iframe src=\"../../examples/key_metrics/ILAMB_output/index.html\"></iframe>"
      ],
      "text/plain": [
       "<IPython.core.display.HTML object>"
      ]
     },
     "metadata": {},
     "output_type": "display_data"
    }
   ],
   "source": [
    "score_chart = os.path.join(ilamb_root, \"index.html\")\n",
    "\n",
    "if print_table:\n",
    "    display(HTML(f'<iframe src=\"{score_chart}\"></iframe>'))"
   ]
  }
 ],
 "metadata": {
  "kernelspec": {
   "display_name": "Python 3 (ipykernel)",
   "language": "python",
   "name": "cupid-analysis"
  },
  "language_info": {
   "codemirror_mode": {
    "name": "ipython",
    "version": 3
   },
   "file_extension": ".py",
   "mimetype": "text/x-python",
   "name": "python",
   "nbconvert_exporter": "python",
   "pygments_lexer": "ipython3",
   "version": "3.11.4"
  },
  "papermill": {
   "duration": 0.985206,
   "end_time": "2025-10-27T20:59:28.524038",
   "exception": null,
   "input_path": "/glade/derecho/scratch/tking/tmp/tmp4ltozdu8.ipynb",
   "output_path": "/glade/work/tking/cupid_project/other_cupids/234v238/CUPiD/examples/key_metrics/computed_notebooks/lnd/ILAMB.ipynb",
   "parameters": {
    "CESM_output_dir": "/glade/campaign/cesm/development/cross-wg/diagnostic_framework/CESM_output_for_testing",
    "base_case_name": "b.e30_alpha07c_cesm.B1850C_LTso.ne30_t232_wgx3.234",
    "base_end_date": "0081-01-01",
    "base_start_date": "0001-01-01",
    "case_name": "b.e30_alpha07c_cesm.B1850C_LTso.ne30_t232_wgx3.238",
    "end_date": "0045-01-01",
    "ilamb_root": "../../examples/key_metrics/ILAMB_output",
    "key_plots": [
     "EcosystemandCarbonCycle/GrossPrimaryProductivity/FLUXCOM/*_global_bias.png",
     "EcosystemandCarbonCycle/LeafAreaIndex/AVHRR/*1_global_bias.png",
     "EcosystemandCarbonCycle/GlobalNetEcosystemCarbonBalance/GCP/*_global_accumulate.png",
     "HydrologyCycle/Permafrost/Brown2002/*_global_bias.png"
    ],
    "lc_kwargs": {
     "threads_per_worker": 1
    },
    "obs_data_dir": "/glade/campaign/cesm/development/cross-wg/diagnostic_framework/CUPiD_obs_data",
    "print_table": true,
    "product": "/glade/work/tking/cupid_project/other_cupids/234v238/CUPiD/examples/key_metrics/computed_notebooks//lnd/ILAMB.ipynb",
    "serial": false,
    "start_date": "0001-01-01",
    "subset_kwargs": {},
    "ts_dir": null
   },
   "start_time": "2025-10-27T20:59:27.538832"
  }
 },
 "nbformat": 4,
 "nbformat_minor": 5
}