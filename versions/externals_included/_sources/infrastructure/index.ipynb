{
 "cells": [
  {
   "cell_type": "markdown",
   "id": "8fcdc2ce-60ea-4f46-8209-87f10f7243da",
   "metadata": {
    "papermill": {
     "duration": 0.00097,
     "end_time": "2025-10-27T20:57:41.396372",
     "exception": false,
     "start_time": "2025-10-27T20:57:41.395402",
     "status": "completed"
    },
    "tags": []
   },
   "source": [
    "# Index homepage!"
   ]
  },
  {
   "cell_type": "code",
   "execution_count": null,
   "id": "c0d95e5f-b3c2-4647-b3f8-36a072964613",
   "metadata": {
    "papermill": {
     "duration": 0.000594,
     "end_time": "2025-10-27T20:57:41.398188",
     "exception": false,
     "start_time": "2025-10-27T20:57:41.397594",
     "status": "completed"
    },
    "tags": [
     "parameters"
    ]
   },
   "outputs": [],
   "source": []
  },
  {
   "cell_type": "code",
   "execution_count": 1,
   "id": "aeda9f88",
   "metadata": {
    "execution": {
     "iopub.execute_input": "2025-10-27T20:57:41.400626Z",
     "iopub.status.busy": "2025-10-27T20:57:41.400324Z",
     "iopub.status.idle": "2025-10-27T20:57:41.410057Z",
     "shell.execute_reply": "2025-10-27T20:57:41.409681Z"
    },
    "papermill": {
     "duration": 0.011805,
     "end_time": "2025-10-27T20:57:41.410619",
     "exception": false,
     "start_time": "2025-10-27T20:57:41.398814",
     "status": "completed"
    },
    "tags": [
     "injected-parameters"
    ]
   },
   "outputs": [],
   "source": [
    "# Parameters\n",
    "case_name = \"b.e30_alpha07c_cesm.B1850C_LTso.ne30_t232_wgx3.238\"\n",
    "base_case_name = \"b.e30_alpha07c_cesm.B1850C_LTso.ne30_t232_wgx3.234\"\n",
    "CESM_output_dir = \"/glade/campaign/cesm/development/cross-wg/diagnostic_framework/CESM_output_for_testing\"\n",
    "start_date = \"0001-01-01\"\n",
    "end_date = \"0045-01-01\"\n",
    "base_start_date = \"0001-01-01\"\n",
    "base_end_date = \"0081-01-01\"\n",
    "obs_data_dir = (\n",
    "    \"/glade/campaign/cesm/development/cross-wg/diagnostic_framework/CUPiD_obs_data\"\n",
    ")\n",
    "ts_dir = None\n",
    "lc_kwargs = {\"threads_per_worker\": 1}\n",
    "serial = False\n",
    "subset_kwargs = {}\n",
    "product = \"/glade/work/tking/cupid_project/other_cupids/234v238/CUPiD/examples/key_metrics/computed_notebooks//infrastructure/index.ipynb\"\n"
   ]
  }
 ],
 "metadata": {
  "kernelspec": {
   "display_name": "Python 3 (ipykernel)",
   "language": "python",
   "name": "cupid-analysis"
  },
  "language_info": {
   "codemirror_mode": {
    "name": "ipython",
    "version": 3
   },
   "file_extension": ".py",
   "mimetype": "text/x-python",
   "name": "python",
   "nbconvert_exporter": "python",
   "pygments_lexer": "ipython3",
   "version": "3.11.4"
  },
  "papermill": {
   "duration": 13.770852,
   "end_time": "2025-10-27T20:57:41.627476",
   "exception": null,
   "input_path": "/glade/derecho/scratch/tking/tmp/tmpriv_3gxf.ipynb",
   "output_path": "/glade/work/tking/cupid_project/other_cupids/234v238/CUPiD/examples/key_metrics/computed_notebooks/infrastructure/index.ipynb",
   "parameters": {
    "CESM_output_dir": "/glade/campaign/cesm/development/cross-wg/diagnostic_framework/CESM_output_for_testing",
    "base_case_name": "b.e30_alpha07c_cesm.B1850C_LTso.ne30_t232_wgx3.234",
    "base_end_date": "0081-01-01",
    "base_start_date": "0001-01-01",
    "case_name": "b.e30_alpha07c_cesm.B1850C_LTso.ne30_t232_wgx3.238",
    "end_date": "0045-01-01",
    "lc_kwargs": {
     "threads_per_worker": 1
    },
    "obs_data_dir": "/glade/campaign/cesm/development/cross-wg/diagnostic_framework/CUPiD_obs_data",
    "product": "/glade/work/tking/cupid_project/other_cupids/234v238/CUPiD/examples/key_metrics/computed_notebooks//infrastructure/index.ipynb",
    "serial": false,
    "start_date": "0001-01-01",
    "subset_kwargs": {},
    "ts_dir": null
   },
   "start_time": "2025-10-27T20:57:27.856624"
  }
 },
 "nbformat": 4,
 "nbformat_minor": 5
}