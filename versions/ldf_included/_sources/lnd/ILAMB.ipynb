{
 "cells": [
  {
   "cell_type": "markdown",
   "id": "623cbc23-45bf-4dfd-9f49-8d814d0394ba",
   "metadata": {
    "papermill": {
     "duration": 0.002185,
     "end_time": "2025-10-28T03:28:53.174644",
     "exception": false,
     "start_time": "2025-10-28T03:28:53.172459",
     "status": "completed"
    },
    "tags": []
   },
   "source": [
    "# ILAMB\n",
    "\n",
    "The output from ILAMB is in the link below.\n",
    "\n",
    "\n",
    "Note that ILAMB is currently run by users via the following process:\n",
    "1) Install ILAMB\n",
    "2) Use the `CUPiD/helper_scripts/generate_ilamb_config_files.py` script to generate ILAMB config files based on a CUPiD configuration file.\n",
    "   * `cd CUPiD/examples/external_diag_packages`\n",
    "   * `../../helper_scripts/generate_ilamb_config_files.py --cupid-config-loc . --run-type RUN_TYPE`\n",
    "4) Run ILAMB with the newly created configuration file.\n",
    "   * `qinteractive -l select=1:ncpus=1:mpiprocs=1:mem=100G -l walltime=06:00:00` (specific for NCAR users)\n",
    "   * follow the printed instructions"
   ]
  },
  {
   "cell_type": "code",
   "execution_count": 1,
   "id": "82af7435-3849-4fd1-bb2d-2e062719ec5b",
   "metadata": {
    "editable": true,
    "execution": {
     "iopub.execute_input": "2025-10-28T03:28:53.179837Z",
     "iopub.status.busy": "2025-10-28T03:28:53.179600Z",
     "iopub.status.idle": "2025-10-28T03:28:53.192101Z",
     "shell.execute_reply": "2025-10-28T03:28:53.191606Z"
    },
    "papermill": {
     "duration": 0.016356,
     "end_time": "2025-10-28T03:28:53.193186",
     "exception": false,
     "start_time": "2025-10-28T03:28:53.176830",
     "status": "completed"
    },
    "slideshow": {
     "slide_type": ""
    },
    "tags": [
     "hide-cell"
    ]
   },
   "outputs": [],
   "source": [
    "import os\n",
    "\n",
    "from IPython.core.display import HTML, Image\n",
    "from IPython.display import display"
   ]
  },
  {
   "cell_type": "code",
   "execution_count": 2,
   "id": "2a759f1b-eca7-4eec-a16a-eede1a6ab36c",
   "metadata": {
    "editable": true,
    "execution": {
     "iopub.execute_input": "2025-10-28T03:28:53.217523Z",
     "iopub.status.busy": "2025-10-28T03:28:53.217302Z",
     "iopub.status.idle": "2025-10-28T03:28:53.220346Z",
     "shell.execute_reply": "2025-10-28T03:28:53.219889Z"
    },
    "papermill": {
     "duration": 0.006776,
     "end_time": "2025-10-28T03:28:53.221183",
     "exception": false,
     "start_time": "2025-10-28T03:28:53.214407",
     "status": "completed"
    },
    "slideshow": {
     "slide_type": ""
    },
    "tags": [
     "parameters",
     "hide-cell"
    ]
   },
   "outputs": [],
   "source": [
    "ilamb_root = \".\"\n",
    "case_name = None\n",
    "base_case_name = None\n",
    "start_date = \"\"\n",
    "end_date = \"\"\n",
    "base_start_date = None\n",
    "base_end_date = None\n",
    "key_plots = None\n",
    "print_table = False\n",
    "# ilamb_root will be external_diag_packages/computed_notebooks/ILAMB/"
   ]
  },
  {
   "cell_type": "code",
   "execution_count": 3,
   "id": "f5535eee",
   "metadata": {
    "execution": {
     "iopub.execute_input": "2025-10-28T03:28:53.226179Z",
     "iopub.status.busy": "2025-10-28T03:28:53.225981Z",
     "iopub.status.idle": "2025-10-28T03:28:53.234758Z",
     "shell.execute_reply": "2025-10-28T03:28:53.234340Z"
    },
    "papermill": {
     "duration": 0.012321,
     "end_time": "2025-10-28T03:28:53.235624",
     "exception": false,
     "start_time": "2025-10-28T03:28:53.223303",
     "status": "completed"
    },
    "tags": [
     "injected-parameters"
    ]
   },
   "outputs": [],
   "source": [
    "# Parameters\n",
    "case_name = \"b.e30_alpha07c_cesm.B1850C_LTso.ne30_t232_wgx3.238\"\n",
    "base_case_name = \"b.e30_alpha07c_cesm.B1850C_LTso.ne30_t232_wgx3.234\"\n",
    "CESM_output_dir = \"/glade/campaign/cesm/development/cross-wg/diagnostic_framework/CESM_output_for_testing\"\n",
    "start_date = \"0001-01-01\"\n",
    "end_date = \"0045-01-01\"\n",
    "base_start_date = \"0001-01-01\"\n",
    "base_end_date = \"0081-01-01\"\n",
    "obs_data_dir = (\n",
    "    \"/glade/campaign/cesm/development/cross-wg/diagnostic_framework/CUPiD_obs_data\"\n",
    ")\n",
    "ts_dir = None\n",
    "lc_kwargs = {\"threads_per_worker\": 1}\n",
    "serial = False\n",
    "ilamb_root = \"../../examples/key_metrics/ILAMB_output\"\n",
    "key_plots = [\n",
    "    \"EcosystemandCarbonCycle/GrossPrimaryProductivity/FLUXCOM/*_global_bias.png\",\n",
    "    \"EcosystemandCarbonCycle/LeafAreaIndex/AVHRR/*1_global_bias.png\",\n",
    "    \"EcosystemandCarbonCycle/GlobalNetEcosystemCarbonBalance/GCP/*_global_accumulate.png\",\n",
    "    \"HydrologyCycle/Permafrost/Brown2002/*_global_bias.png\",\n",
    "]\n",
    "print_table = True\n",
    "subset_kwargs = {}\n",
    "product = \"/glade/work/tking/cupid_project/other_cupids/234v238/CUPiD/examples/key_metrics/computed_notebooks//lnd/ILAMB.ipynb\"\n"
   ]
  },
  {
   "cell_type": "code",
   "execution_count": 4,
   "id": "81bf4573-8806-486f-a2f6-79e244415c07",
   "metadata": {
    "editable": true,
    "execution": {
     "iopub.execute_input": "2025-10-28T03:28:53.240559Z",
     "iopub.status.busy": "2025-10-28T03:28:53.240374Z",
     "iopub.status.idle": "2025-10-28T03:28:53.247571Z",
     "shell.execute_reply": "2025-10-28T03:28:53.247136Z"
    },
    "papermill": {
     "duration": 0.010709,
     "end_time": "2025-10-28T03:28:53.248463",
     "exception": false,
     "start_time": "2025-10-28T03:28:53.237754",
     "status": "completed"
    },
    "slideshow": {
     "slide_type": ""
    },
    "tags": [
     "hide-cell"
    ]
   },
   "outputs": [],
   "source": [
    "# Want some base case parameter defaults to equal control case values\n",
    "if base_case_name is not None:\n",
    "    if base_start_date is None:\n",
    "        base_start_date = start_date\n",
    "\n",
    "    if base_end_date is None:\n",
    "        base_end_date = end_date"
   ]
  },
  {
   "cell_type": "code",
   "execution_count": 5,
   "id": "4104f878-a8c3-4d0f-8c00-555e6b2b3273",
   "metadata": {
    "editable": true,
    "execution": {
     "iopub.execute_input": "2025-10-28T03:28:53.253282Z",
     "iopub.status.busy": "2025-10-28T03:28:53.253100Z",
     "iopub.status.idle": "2025-10-28T03:28:53.265331Z",
     "shell.execute_reply": "2025-10-28T03:28:53.264799Z"
    },
    "papermill": {
     "duration": 0.015711,
     "end_time": "2025-10-28T03:28:53.266312",
     "exception": false,
     "start_time": "2025-10-28T03:28:53.250601",
     "status": "completed"
    },
    "slideshow": {
     "slide_type": ""
    },
    "tags": [
     "hide-cell"
    ]
   },
   "outputs": [],
   "source": [
    "# convert start-date and end-date to year range\n",
    "case_year_range = [int(start_date.split(\"-\")[0]), int(end_date.split(\"-\")[0]) - 1]\n",
    "\n",
    "base_case_year_range = [\n",
    "    int(base_start_date.split(\"-\")[0]),\n",
    "    int(base_end_date.split(\"-\")[0]) - 1,\n",
    "]"
   ]
  },
  {
   "cell_type": "code",
   "execution_count": 6,
   "id": "ee0774cc-c68a-4385-b94c-08fa806f28c0",
   "metadata": {
    "editable": true,
    "execution": {
     "iopub.execute_input": "2025-10-28T03:28:53.273968Z",
     "iopub.status.busy": "2025-10-28T03:28:53.273782Z",
     "iopub.status.idle": "2025-10-28T03:28:53.280070Z",
     "shell.execute_reply": "2025-10-28T03:28:53.279630Z"
    },
    "papermill": {
     "duration": 0.009715,
     "end_time": "2025-10-28T03:28:53.280840",
     "exception": false,
     "start_time": "2025-10-28T03:28:53.271125",
     "status": "completed"
    },
    "slideshow": {
     "slide_type": ""
    },
    "tags": [
     "hide-input"
    ]
   },
   "outputs": [
    {
     "data": {
      "text/html": [
       "<a href=\"../ILAMB/index.html\">Full ILAMB output</a>"
      ],
      "text/plain": [
       "<IPython.core.display.HTML object>"
      ]
     },
     "metadata": {},
     "output_type": "display_data"
    }
   ],
   "source": [
    "display(HTML('<a href=\"../ILAMB/index.html\">Full ILAMB output</a>'))"
   ]
  },
  {
   "cell_type": "markdown",
   "id": "f9234aec-1fe5-4bbf-ad6c-fb565297afbe",
   "metadata": {
    "papermill": {
     "duration": 0.002093,
     "end_time": "2025-10-28T03:28:53.285326",
     "exception": false,
     "start_time": "2025-10-28T03:28:53.283233",
     "status": "completed"
    },
    "tags": []
   },
   "source": [
    "## Key Metrics from ILAMB\n",
    "\n",
    "Some important things to look at from ILAMB:"
   ]
  },
  {
   "cell_type": "code",
   "execution_count": 7,
   "id": "be819352-c723-4f48-afac-d93f6d192f96",
   "metadata": {
    "editable": true,
    "execution": {
     "iopub.execute_input": "2025-10-28T03:28:53.290615Z",
     "iopub.status.busy": "2025-10-28T03:28:53.290440Z",
     "iopub.status.idle": "2025-10-28T03:28:53.293963Z",
     "shell.execute_reply": "2025-10-28T03:28:53.293548Z"
    },
    "papermill": {
     "duration": 0.00732,
     "end_time": "2025-10-28T03:28:53.294819",
     "exception": false,
     "start_time": "2025-10-28T03:28:53.287499",
     "status": "completed"
    },
    "slideshow": {
     "slide_type": ""
    },
    "tags": [
     "hide-input"
    ]
   },
   "outputs": [],
   "source": [
    "for path_to_key_plot in key_plots:\n",
    "    full_path = os.path.join(ilamb_root, path_to_key_plot)\n",
    "    if os.path.isfile(full_path):\n",
    "        print(full_path)\n",
    "        display(Image(full_path))"
   ]
  },
  {
   "cell_type": "code",
   "execution_count": 8,
   "id": "de0bc64c",
   "metadata": {
    "execution": {
     "iopub.execute_input": "2025-10-28T03:28:53.299825Z",
     "iopub.status.busy": "2025-10-28T03:28:53.299649Z",
     "iopub.status.idle": "2025-10-28T03:28:53.307916Z",
     "shell.execute_reply": "2025-10-28T03:28:53.307373Z"
    },
    "papermill": {
     "duration": 0.011774,
     "end_time": "2025-10-28T03:28:53.308737",
     "exception": false,
     "start_time": "2025-10-28T03:28:53.296963",
     "status": "completed"
    },
    "tags": []
   },
   "outputs": [
    {
     "name": "stderr",
     "output_type": "stream",
     "text": [
      "/glade/work/tking/conda-envs/cupid-analysis/lib/python3.11/site-packages/IPython/core/display.py:447: UserWarning: Consider using IPython.display.IFrame instead\n",
      "  warnings.warn(\"Consider using IPython.display.IFrame instead\")\n"
     ]
    },
    {
     "data": {
      "text/html": [
       "<iframe src=\"../../examples/key_metrics/ILAMB_output/index.html\"></iframe>"
      ],
      "text/plain": [
       "<IPython.core.display.HTML object>"
      ]
     },
     "metadata": {},
     "output_type": "display_data"
    }
   ],
   "source": [
    "score_chart = os.path.join(ilamb_root, \"index.html\")\n",
    "\n",
    "if print_table:\n",
    "    display(HTML(f'<iframe src=\"{score_chart}\"></iframe>'))"
   ]
  }
 ],
 "metadata": {
  "kernelspec": {
   "display_name": "Python 3 (ipykernel)",
   "language": "python",
   "name": "cupid-analysis"
  },
  "language_info": {
   "codemirror_mode": {
    "name": "ipython",
    "version": 3
   },
   "file_extension": ".py",
   "mimetype": "text/x-python",
   "name": "python",
   "nbconvert_exporter": "python",
   "pygments_lexer": "ipython3",
   "version": "3.11.4"
  },
  "papermill": {
   "duration": 1.44793,
   "end_time": "2025-10-28T03:28:53.627237",
   "exception": null,
   "input_path": "/glade/derecho/scratch/tking/tmp/tmprebh5xcm.ipynb",
   "output_path": "/glade/work/tking/cupid_project/other_cupids/234v238/CUPiD/examples/key_metrics/computed_notebooks/lnd/ILAMB.ipynb",
   "parameters": {
    "CESM_output_dir": "/glade/campaign/cesm/development/cross-wg/diagnostic_framework/CESM_output_for_testing",
    "base_case_name": "b.e30_alpha07c_cesm.B1850C_LTso.ne30_t232_wgx3.234",
    "base_end_date": "0081-01-01",
    "base_start_date": "0001-01-01",
    "case_name": "b.e30_alpha07c_cesm.B1850C_LTso.ne30_t232_wgx3.238",
    "end_date": "0045-01-01",
    "ilamb_root": "../../examples/key_metrics/ILAMB_output",
    "key_plots": [
     "EcosystemandCarbonCycle/GrossPrimaryProductivity/FLUXCOM/*_global_bias.png",
     "EcosystemandCarbonCycle/LeafAreaIndex/AVHRR/*1_global_bias.png",
     "EcosystemandCarbonCycle/GlobalNetEcosystemCarbonBalance/GCP/*_global_accumulate.png",
     "HydrologyCycle/Permafrost/Brown2002/*_global_bias.png"
    ],
    "lc_kwargs": {
     "threads_per_worker": 1
    },
    "obs_data_dir": "/glade/campaign/cesm/development/cross-wg/diagnostic_framework/CUPiD_obs_data",
    "print_table": true,
    "product": "/glade/work/tking/cupid_project/other_cupids/234v238/CUPiD/examples/key_metrics/computed_notebooks//lnd/ILAMB.ipynb",
    "serial": false,
    "start_date": "0001-01-01",
    "subset_kwargs": {},
    "ts_dir": null
   },
   "start_time": "2025-10-28T03:28:52.179307"
  }
 },
 "nbformat": 4,
 "nbformat_minor": 5
}