{
 "cells": [
  {
   "cell_type": "markdown",
   "id": "3f230d52-dca7-4ce4-98cc-6267fc04893d",
   "metadata": {
    "editable": true,
    "papermill": {
     "duration": 0.004948,
     "end_time": "2025-10-27T20:57:42.249306",
     "exception": false,
     "start_time": "2025-10-27T20:57:42.244358",
     "status": "completed"
    },
    "slideshow": {
     "slide_type": ""
    },
    "tags": []
   },
   "source": [
    "# SLP (NMSE)\n",
    "\n",
    "This notebook computes the normalized mean square error of atmospheric surface pressure.\n",
    "It is compared to ERA5 observations, as well as the CESM2 large ensemble and CMIP6 model output."
   ]
  },
  {
   "cell_type": "code",
   "execution_count": 1,
   "id": "2292c691-9bd9-44d2-8a3f-cb90dbe2e383",
   "metadata": {
    "editable": true,
    "execution": {
     "iopub.execute_input": "2025-10-27T20:57:42.257662Z",
     "iopub.status.busy": "2025-10-27T20:57:42.257328Z",
     "iopub.status.idle": "2025-10-27T20:57:50.514616Z",
     "shell.execute_reply": "2025-10-27T20:57:50.514190Z"
    },
    "papermill": {
     "duration": 8.261575,
     "end_time": "2025-10-27T20:57:50.516105",
     "exception": false,
     "start_time": "2025-10-27T20:57:42.254530",
     "status": "completed"
    },
    "slideshow": {
     "slide_type": ""
    },
    "tags": [
     "hide-input"
    ]
   },
   "outputs": [],
   "source": [
    "import glob\n",
    "import os\n",
    "\n",
    "import matplotlib.pyplot as plt\n",
    "import numpy as np\n",
    "import xarray as xr\n",
    "\n",
    "from nmse_utils import nmse\n",
    "from averaging_utils import seasonal_climatology_weighted"
   ]
  },
  {
   "cell_type": "markdown",
   "id": "9d67416c-a2d4-403b-85f4-647aa0a816eb",
   "metadata": {
    "editable": true,
    "papermill": {
     "duration": 0.003143,
     "end_time": "2025-10-27T20:57:50.526224",
     "exception": false,
     "start_time": "2025-10-27T20:57:50.523081",
     "status": "completed"
    },
    "slideshow": {
     "slide_type": ""
    },
    "tags": []
   },
   "source": [
    "## Parameters\n",
    "\n",
    "These variables are set in `config.yml`"
   ]
  },
  {
   "cell_type": "code",
   "execution_count": 2,
   "id": "b7486e94-e493-4369-9767-90eb15c0ac3a",
   "metadata": {
    "editable": true,
    "execution": {
     "iopub.execute_input": "2025-10-27T20:57:50.531181Z",
     "iopub.status.busy": "2025-10-27T20:57:50.530717Z",
     "iopub.status.idle": "2025-10-27T20:57:50.535356Z",
     "shell.execute_reply": "2025-10-27T20:57:50.534835Z"
    },
    "papermill": {
     "duration": 0.007815,
     "end_time": "2025-10-27T20:57:50.535930",
     "exception": false,
     "start_time": "2025-10-27T20:57:50.528115",
     "status": "completed"
    },
    "slideshow": {
     "slide_type": ""
    },
    "tags": [
     "parameters",
     "hide-input"
    ]
   },
   "outputs": [],
   "source": [
    "CESM_output_dir = \"\"\n",
    "case_name = \"\"\n",
    "start_date = \"\"\n",
    "end_date = \"\"\n",
    "base_case_output_dir = None\n",
    "ts_dir = None\n",
    "base_case_name = None\n",
    "base_start_date = None\n",
    "base_end_date = None\n",
    "obs_data_dir = \"\"\n",
    "validation_path = \"\"\n",
    "regridded_output = False\n",
    "base_regridded_output = None"
   ]
  },
  {
   "cell_type": "code",
   "execution_count": 3,
   "id": "a981da95",
   "metadata": {
    "execution": {
     "iopub.execute_input": "2025-10-27T20:57:50.540534Z",
     "iopub.status.busy": "2025-10-27T20:57:50.540302Z",
     "iopub.status.idle": "2025-10-27T20:57:50.555139Z",
     "shell.execute_reply": "2025-10-27T20:57:50.554566Z"
    },
    "papermill": {
     "duration": 0.018074,
     "end_time": "2025-10-27T20:57:50.555921",
     "exception": false,
     "start_time": "2025-10-27T20:57:50.537847",
     "status": "completed"
    },
    "tags": [
     "injected-parameters"
    ]
   },
   "outputs": [],
   "source": [
    "# Parameters\n",
    "case_name = \"b.e30_alpha07c_cesm.B1850C_LTso.ne30_t232_wgx3.238\"\n",
    "base_case_name = \"b.e30_alpha07c_cesm.B1850C_LTso.ne30_t232_wgx3.234\"\n",
    "CESM_output_dir = \"/glade/campaign/cesm/development/cross-wg/diagnostic_framework/CESM_output_for_testing\"\n",
    "start_date = \"0001-01-01\"\n",
    "end_date = \"0045-01-01\"\n",
    "base_start_date = \"0001-01-01\"\n",
    "base_end_date = \"0081-01-01\"\n",
    "obs_data_dir = (\n",
    "    \"/glade/campaign/cesm/development/cross-wg/diagnostic_framework/CUPiD_obs_data\"\n",
    ")\n",
    "ts_dir = None\n",
    "lc_kwargs = {\"threads_per_worker\": 1}\n",
    "serial = False\n",
    "regridded_output = False\n",
    "base_regridded_output = False\n",
    "validation_path = (\n",
    "    \"atm/analysis_datasets/fv0.9x1.25/seasonal_climatology/nmse_validation/PSL/\"\n",
    ")\n",
    "subset_kwargs = {}\n",
    "product = \"/glade/work/tking/cupid_project/other_cupids/234v238/CUPiD/examples/key_metrics/computed_notebooks//atm/Global_PSL_NMSE_compare_obs_lens.ipynb\"\n"
   ]
  },
  {
   "cell_type": "code",
   "execution_count": 4,
   "id": "9dfe1566-abe3-4b23-a59c-113334a0458f",
   "metadata": {
    "editable": true,
    "execution": {
     "iopub.execute_input": "2025-10-27T20:57:50.566332Z",
     "iopub.status.busy": "2025-10-27T20:57:50.566062Z",
     "iopub.status.idle": "2025-10-27T20:57:50.570187Z",
     "shell.execute_reply": "2025-10-27T20:57:50.569721Z"
    },
    "papermill": {
     "duration": 0.009781,
     "end_time": "2025-10-27T20:57:50.570670",
     "exception": false,
     "start_time": "2025-10-27T20:57:50.560889",
     "status": "completed"
    },
    "slideshow": {
     "slide_type": ""
    },
    "tags": [
     "hide-input"
    ]
   },
   "outputs": [],
   "source": [
    "# Want some base case parameter defaults to equal control case values\n",
    "if base_case_name is not None:\n",
    "    if base_case_output_dir is None:\n",
    "        base_case_output_dir = CESM_output_dir\n",
    "\n",
    "    if base_start_date is None:\n",
    "        base_start_date = start_date\n",
    "\n",
    "    if base_end_date is None:\n",
    "        base_end_date = end_date\n",
    "\n",
    "    if base_regridded_output is None:\n",
    "        base_regridded_output = regridded_output\n",
    "if ts_dir is None:\n",
    "    ts_dir = CESM_output_dir"
   ]
  },
  {
   "cell_type": "markdown",
   "id": "74c7803f-a8c5-445d-9233-0aa2663c58bd",
   "metadata": {
    "editable": true,
    "papermill": {
     "duration": 0.001823,
     "end_time": "2025-10-27T20:57:50.574462",
     "exception": false,
     "start_time": "2025-10-27T20:57:50.572639",
     "status": "completed"
    },
    "slideshow": {
     "slide_type": ""
    },
    "tags": []
   },
   "source": [
    "## Read in the current case"
   ]
  },
  {
   "cell_type": "code",
   "execution_count": 5,
   "id": "7f4132b5-db1f-4ae8-92df-07dd531b650e",
   "metadata": {
    "editable": true,
    "execution": {
     "iopub.execute_input": "2025-10-27T20:57:50.578707Z",
     "iopub.status.busy": "2025-10-27T20:57:50.578593Z",
     "iopub.status.idle": "2025-10-27T20:57:50.623140Z",
     "shell.execute_reply": "2025-10-27T20:57:50.622394Z"
    },
    "papermill": {
     "duration": 0.048223,
     "end_time": "2025-10-27T20:57:50.624575",
     "exception": false,
     "start_time": "2025-10-27T20:57:50.576352",
     "status": "completed"
    },
    "slideshow": {
     "slide_type": ""
    },
    "tags": [
     "hide-input"
    ]
   },
   "outputs": [],
   "source": [
    "def fix_time_dim(dat):\n",
    "    \"\"\"CESM2 output sets time as the end of the averaging interval (e.g. January average is midnight on February 1st);\n",
    "    This function sets the time dimension to the midpoint of the averaging interval.\n",
    "    Note that CESM3 output sets time to the midpoint already, so this function should not change CESM3 data.\"\"\"\n",
    "    if \"time\" not in dat.dims:\n",
    "        return dat\n",
    "    if \"bounds\" not in dat.time.attrs:\n",
    "        return dat\n",
    "    time_bounds_avg = dat[dat.time.attrs[\"bounds\"]].mean(\"nbnd\")\n",
    "    time_bounds_avg.attrs = dat.time.attrs\n",
    "    dat = dat.assign_coords({\"time\": time_bounds_avg})\n",
    "    return xr.decode_cf(dat)"
   ]
  },
  {
   "cell_type": "code",
   "execution_count": 6,
   "id": "caf05d8b-a711-40fb-b88a-c10472a49d30",
   "metadata": {
    "execution": {
     "iopub.execute_input": "2025-10-27T20:57:50.636500Z",
     "iopub.status.busy": "2025-10-27T20:57:50.636224Z",
     "iopub.status.idle": "2025-10-27T20:57:50.640318Z",
     "shell.execute_reply": "2025-10-27T20:57:50.639606Z"
    },
    "papermill": {
     "duration": 0.011067,
     "end_time": "2025-10-27T20:57:50.641062",
     "exception": false,
     "start_time": "2025-10-27T20:57:50.629995",
     "status": "completed"
    },
    "tags": []
   },
   "outputs": [
    {
     "name": "stdout",
     "output_type": "stream",
     "text": [
      "/glade/campaign/cesm/development/cross-wg/diagnostic_framework/CESM_output_for_testing/b.e30_alpha07c_cesm.B1850C_LTso.ne30_t232_wgx3.238/atm/proc/tseries\n"
     ]
    }
   ],
   "source": [
    "if regridded_output:\n",
    "    file_path = f\"{ts_dir}/{case_name}/atm/proc/tseries/regrid\"\n",
    "else:\n",
    "    file_path = f\"{ts_dir}/{case_name}/atm/proc/tseries\"\n",
    "print(file_path)"
   ]
  },
  {
   "cell_type": "code",
   "execution_count": 7,
   "id": "318b8c9a-344f-41d5-87be-593847e4b6f1",
   "metadata": {
    "execution": {
     "iopub.execute_input": "2025-10-27T20:57:50.648100Z",
     "iopub.status.busy": "2025-10-27T20:57:50.647977Z",
     "iopub.status.idle": "2025-10-27T20:57:50.650925Z",
     "shell.execute_reply": "2025-10-27T20:57:50.650270Z"
    },
    "papermill": {
     "duration": 0.00716,
     "end_time": "2025-10-27T20:57:50.651502",
     "exception": false,
     "start_time": "2025-10-27T20:57:50.644342",
     "status": "completed"
    },
    "tags": []
   },
   "outputs": [
    {
     "name": "stdout",
     "output_type": "stream",
     "text": [
      "/glade/campaign/cesm/development/cross-wg/diagnostic_framework/CESM_output_for_testing/b.e30_alpha07c_cesm.B1850C_LTso.ne30_t232_wgx3.234/atm/proc/tseries\n"
     ]
    }
   ],
   "source": [
    "if base_case_name is not None:\n",
    "    if base_regridded_output:\n",
    "        base_file_path = f\"{ts_dir}/{base_case_name}/atm/proc/tseries/regrid\"\n",
    "    else:\n",
    "        base_file_path = f\"{ts_dir}/{base_case_name}/atm/proc/tseries\"\n",
    "    print(base_file_path)"
   ]
  },
  {
   "cell_type": "code",
   "execution_count": 8,
   "id": "ccca8e3a-a52f-4202-9704-9d4470eda984",
   "metadata": {
    "editable": true,
    "execution": {
     "iopub.execute_input": "2025-10-27T20:57:50.656398Z",
     "iopub.status.busy": "2025-10-27T20:57:50.656158Z",
     "iopub.status.idle": "2025-10-27T20:58:19.732777Z",
     "shell.execute_reply": "2025-10-27T20:58:19.732239Z"
    },
    "papermill": {
     "duration": 29.080525,
     "end_time": "2025-10-27T20:58:19.734155",
     "exception": false,
     "start_time": "2025-10-27T20:57:50.653630",
     "status": "completed"
    },
    "slideshow": {
     "slide_type": ""
    },
    "tags": [
     "hide-input"
    ]
   },
   "outputs": [],
   "source": [
    "dat = (\n",
    "    fix_time_dim(xr.open_mfdataset(f\"{file_path}/*PSL*.nc\", decode_times=False))\n",
    "    .sel(time=slice(start_date, end_date))\n",
    "    .PSL\n",
    "    / 100.0\n",
    ")\n",
    "\n",
    "# Ensure all datasets have the same coordinates as the output data\n",
    "# (Avoid round-off level differences since all data should be on the same grid)\n",
    "lon = dat.lon.data\n",
    "lat = dat.lat.data\n",
    "\n",
    "if base_case_name is not None:\n",
    "    base_dat = (\n",
    "        fix_time_dim(\n",
    "            xr.open_mfdataset(f\"{base_file_path}/*PSL*.nc\", decode_times=False)\n",
    "        )\n",
    "        .sel(time=slice(base_start_date, base_end_date))\n",
    "        .assign_coords({\"lon\": lon, \"lat\": lat})\n",
    "        .PSL\n",
    "        / 100.0\n",
    "    )"
   ]
  },
  {
   "cell_type": "code",
   "execution_count": 9,
   "id": "073a2ad0-81e6-4817-9024-4b9b718fabb4",
   "metadata": {
    "editable": true,
    "execution": {
     "iopub.execute_input": "2025-10-27T20:58:19.746175Z",
     "iopub.status.busy": "2025-10-27T20:58:19.745995Z",
     "iopub.status.idle": "2025-10-27T20:58:24.134934Z",
     "shell.execute_reply": "2025-10-27T20:58:24.134629Z"
    },
    "papermill": {
     "duration": 4.393137,
     "end_time": "2025-10-27T20:58:24.136370",
     "exception": false,
     "start_time": "2025-10-27T20:58:19.743233",
     "status": "completed"
    },
    "slideshow": {
     "slide_type": ""
    },
    "tags": [
     "hide-input"
    ]
   },
   "outputs": [],
   "source": [
    "# --Compute seasonal and annual means\n",
    "dat = seasonal_climatology_weighted(dat).load()\n",
    "\n",
    "if base_case_name is not None:\n",
    "    base_dat = seasonal_climatology_weighted(base_dat).load()"
   ]
  },
  {
   "cell_type": "markdown",
   "id": "e0527e3e-cd26-46b5-8c1e-08882109e12e",
   "metadata": {
    "editable": true,
    "papermill": {
     "duration": 0.002089,
     "end_time": "2025-10-27T20:58:24.145636",
     "exception": false,
     "start_time": "2025-10-27T20:58:24.143547",
     "status": "completed"
    },
    "slideshow": {
     "slide_type": ""
    },
    "tags": []
   },
   "source": [
    "## Read in validation data and other CMIP models for comparison (precomputed)"
   ]
  },
  {
   "cell_type": "code",
   "execution_count": 10,
   "id": "126e65b3-2b8c-400c-af02-2ad0b0f82e6e",
   "metadata": {
    "editable": true,
    "execution": {
     "iopub.execute_input": "2025-10-27T20:58:24.150613Z",
     "iopub.status.busy": "2025-10-27T20:58:24.150373Z",
     "iopub.status.idle": "2025-10-27T20:58:29.638874Z",
     "shell.execute_reply": "2025-10-27T20:58:29.638359Z"
    },
    "papermill": {
     "duration": 5.492575,
     "end_time": "2025-10-27T20:58:29.640306",
     "exception": false,
     "start_time": "2025-10-27T20:58:24.147731",
     "status": "completed"
    },
    "slideshow": {
     "slide_type": ""
    },
    "tags": [
     "hide-input"
    ]
   },
   "outputs": [],
   "source": [
    "# ---ERA5\n",
    "era5 = xr.open_dataset(\n",
    "    os.path.join(obs_data_dir, validation_path, \"PSL_ERA5.nc\")\n",
    ").assign_coords({\"lon\": lon, \"lat\": lat})\n",
    "era5 = era5 / 100.0  # convert to hPa\n",
    "\n",
    "# ---CESM2\n",
    "lens2 = xr.open_dataset(\n",
    "    os.path.join(obs_data_dir, validation_path, \"PSL_LENS2.nc\")\n",
    ").assign_coords({\"lon\": lon, \"lat\": lat})\n",
    "lens2 = lens2 / 100.0  # convert to hPa\n",
    "\n",
    "# ---CMIP6\n",
    "modelfiles = sorted(\n",
    "    glob.glob(f\"{os.path.join(obs_data_dir,validation_path)}/CMIP6/*.nc\")\n",
    ")\n",
    "datcmip6 = [\n",
    "    xr.open_dataset(ifile).assign_coords({\"lon\": lon, \"lat\": lat}).mean(\"M\")\n",
    "    for ifile in modelfiles\n",
    "]\n",
    "datcmip6 = xr.concat(datcmip6, dim=\"model\")\n",
    "datcmip6 = datcmip6 / 100.0"
   ]
  },
  {
   "cell_type": "markdown",
   "id": "22cc331d-413c-4a87-bd89-812ad118cf8c",
   "metadata": {
    "editable": true,
    "papermill": {
     "duration": 0.002098,
     "end_time": "2025-10-27T20:58:29.650983",
     "exception": false,
     "start_time": "2025-10-27T20:58:29.648885",
     "status": "completed"
    },
    "slideshow": {
     "slide_type": ""
    },
    "tags": []
   },
   "source": [
    "## Compute the NMSE"
   ]
  },
  {
   "cell_type": "code",
   "execution_count": 11,
   "id": "6857717d-7514-45b5-ba33-a774f38b7c3e",
   "metadata": {
    "editable": true,
    "execution": {
     "iopub.execute_input": "2025-10-27T20:58:29.655931Z",
     "iopub.status.busy": "2025-10-27T20:58:29.655694Z",
     "iopub.status.idle": "2025-10-27T20:58:30.395418Z",
     "shell.execute_reply": "2025-10-27T20:58:30.394903Z"
    },
    "papermill": {
     "duration": 0.743814,
     "end_time": "2025-10-27T20:58:30.396831",
     "exception": false,
     "start_time": "2025-10-27T20:58:29.653017",
     "status": "completed"
    },
    "slideshow": {
     "slide_type": ""
    },
    "tags": [
     "hide-input"
    ]
   },
   "outputs": [],
   "source": [
    "nmse_dat = []\n",
    "nmse_cesm2 = []\n",
    "nmse_cmip6 = []\n",
    "if base_case_name is not None:\n",
    "    nmse_base_dat = []\n",
    "else:\n",
    "    nmse_base_dat = {key: None for key in [\"AM\", \"DJF\", \"MAM\", \"JJA\", \"SON\"]}\n",
    "for ivar in era5.data_vars:\n",
    "    nmse_dat.append(nmse(era5[ivar], dat[ivar]))\n",
    "    nmse_cesm2.append(nmse(era5[ivar], lens2[ivar]))\n",
    "    nmse_cmip6.append(nmse(era5[ivar], datcmip6[ivar]))\n",
    "    if base_case_name is not None:\n",
    "        nmse_base_dat.append(nmse(era5[ivar], base_dat[ivar]))\n",
    "nmse_dat = xr.merge(nmse_dat)\n",
    "nmse_cesm2 = xr.merge(nmse_cesm2)\n",
    "nmse_cmip6 = xr.merge(nmse_cmip6)\n",
    "if base_case_name is not None:\n",
    "    nmse_base_dat = xr.merge(nmse_base_dat)"
   ]
  },
  {
   "cell_type": "markdown",
   "id": "1014f119-fc3f-428b-99ca-ab9de700148d",
   "metadata": {
    "editable": true,
    "papermill": {
     "duration": 0.002154,
     "end_time": "2025-10-27T20:58:30.406985",
     "exception": false,
     "start_time": "2025-10-27T20:58:30.404831",
     "status": "completed"
    },
    "slideshow": {
     "slide_type": ""
    },
    "tags": []
   },
   "source": [
    "### Set up the plot panel"
   ]
  },
  {
   "cell_type": "code",
   "execution_count": 12,
   "id": "53494900-0145-4ab2-85b8-5ed6ae347892",
   "metadata": {
    "editable": true,
    "execution": {
     "iopub.execute_input": "2025-10-27T20:58:30.411618Z",
     "iopub.status.busy": "2025-10-27T20:58:30.411499Z",
     "iopub.status.idle": "2025-10-27T20:58:30.417690Z",
     "shell.execute_reply": "2025-10-27T20:58:30.417093Z"
    },
    "papermill": {
     "duration": 0.009268,
     "end_time": "2025-10-27T20:58:30.418297",
     "exception": false,
     "start_time": "2025-10-27T20:58:30.409029",
     "status": "completed"
    },
    "slideshow": {
     "slide_type": ""
    },
    "tags": [
     "hide-input"
    ]
   },
   "outputs": [],
   "source": [
    "def plotnmse(fig, cmip6, cesm2, cesm3, cesm_baseline, x1, x2, y1, y2, titlestr):\n",
    "    ax = fig.add_axes([x1, y1, x2 - x1, y2 - y1])\n",
    "\n",
    "    cmip6 = cmip6.sortby(cmip6, ascending=False)\n",
    "    binedges = np.arange(0, cmip6.size, 1)\n",
    "    ax.bar(\n",
    "        binedges,\n",
    "        cmip6,\n",
    "        width=1,\n",
    "        bottom=0,\n",
    "        edgecolor=\"black\",\n",
    "        color=\"gray\",\n",
    "        label=\"CMIP6\",\n",
    "    )\n",
    "\n",
    "    ax.plot(cmip6.size + 1, cesm3, \"o\", color=\"blue\", label=\"THIS RUN\")\n",
    "    if cesm_baseline is not None:\n",
    "        ax.plot(cmip6.size + 1, cesm_baseline, \"x\", color=\"red\", label=\"BASELINE\")\n",
    "\n",
    "    ax.fill_between(\n",
    "        np.arange(0, cmip6.size + 3, 1) - 0.5,\n",
    "        np.arange(0, cmip6.size + 3, 1) * 0 + np.array(cesm2.min()),\n",
    "        np.arange(0, cmip6.size + 3, 1) * 0 + np.array(cesm2.max()),\n",
    "        color=\"salmon\",\n",
    "        alpha=0.5,\n",
    "        label=\"LENS2\",\n",
    "    )\n",
    "\n",
    "    ax.set_xlim(-0.5, cmip6.size + 2 - 0.5)\n",
    "    ax.set_xticks([])\n",
    "    ax.set_ylabel(\"NMSE\", fontsize=14)\n",
    "    ax.set_title(titlestr, fontsize=16)\n",
    "\n",
    "    ax.legend()\n",
    "\n",
    "    return ax"
   ]
  },
  {
   "cell_type": "code",
   "execution_count": 13,
   "id": "56b4cd99-a27e-4f28-86c2-8013e7c7bc78",
   "metadata": {
    "editable": true,
    "execution": {
     "iopub.execute_input": "2025-10-27T20:58:30.424595Z",
     "iopub.status.busy": "2025-10-27T20:58:30.424345Z",
     "iopub.status.idle": "2025-10-27T20:58:31.414430Z",
     "shell.execute_reply": "2025-10-27T20:58:31.413706Z"
    },
    "papermill": {
     "duration": 0.995297,
     "end_time": "2025-10-27T20:58:31.415862",
     "exception": false,
     "start_time": "2025-10-27T20:58:30.420565",
     "status": "completed"
    },
    "slideshow": {
     "slide_type": ""
    },
    "tags": [
     "hide-input"
    ]
   },
   "outputs": [
    {
     "data": {
      "image/png": "[encoded data removed]",
      "text/plain": [
       "<Figure size 1600x1600 with 5 Axes>"
      ]
     },
     "metadata": {},
     "output_type": "display_data"
    }
   ],
   "source": [
    "fig = plt.figure(figsize=(16, 16))\n",
    "\n",
    "vert_coord = 0.99\n",
    "fig.text(\n",
    "    0.5,\n",
    "    vert_coord,\n",
    "    \"THIS RUN = \" + case_name + \" \" + start_date + \" to \" + end_date,\n",
    "    ha=\"center\",\n",
    "    va=\"center\",\n",
    "    fontsize=14,\n",
    "    color=\"royalblue\",\n",
    ")\n",
    "vert_coord = vert_coord - 0.015\n",
    "if base_case_name is not None:\n",
    "    fig.text(\n",
    "        0.5,\n",
    "        vert_coord,\n",
    "        \"BASELINE RUN = \"\n",
    "        + base_case_name\n",
    "        + \" \"\n",
    "        + base_start_date\n",
    "        + \" to \"\n",
    "        + base_end_date,\n",
    "        ha=\"center\",\n",
    "        va=\"center\",\n",
    "        fontsize=14,\n",
    "        color=\"red\",\n",
    "    )\n",
    "    vert_coord = vert_coord - 0.015\n",
    "\n",
    "fig.text(\n",
    "    0.5,\n",
    "    vert_coord,\n",
    "    \"Other runs = 1979-01-01 to 2023-12-31\",\n",
    "    ha=\"center\",\n",
    "    va=\"center\",\n",
    "    fontsize=14,\n",
    ")\n",
    "vert_coord = vert_coord - 0.015\n",
    "\n",
    "fig.text(\n",
    "    0.5,\n",
    "    vert_coord,\n",
    "    \"Validation data = ERA5 1979-01-01 to 2023-12-31\",\n",
    "    ha=\"center\",\n",
    "    va=\"center\",\n",
    "    fontsize=14,\n",
    ")\n",
    "vert_coord = vert_coord - 0.03\n",
    "\n",
    "ax = plotnmse(\n",
    "    fig,\n",
    "    nmse_cmip6[\"AM\"],\n",
    "    nmse_cesm2[\"AM\"],\n",
    "    nmse_dat[\"AM\"],\n",
    "    nmse_base_dat[\"AM\"],\n",
    "    0.3,\n",
    "    0.7,\n",
    "    vert_coord - 0.16,\n",
    "    vert_coord,\n",
    "    \"NMSE, SLP, AM\",\n",
    ")\n",
    "ax = plotnmse(\n",
    "    fig,\n",
    "    nmse_cmip6[\"DJF\"],\n",
    "    nmse_cesm2[\"DJF\"],\n",
    "    nmse_dat[\"DJF\"],\n",
    "    nmse_base_dat[\"DJF\"],\n",
    "    0.05,\n",
    "    0.45,\n",
    "    0.57,\n",
    "    0.72,\n",
    "    \"NMSE, SLP, DJF\",\n",
    ")\n",
    "ax = plotnmse(\n",
    "    fig,\n",
    "    nmse_cmip6[\"MAM\"],\n",
    "    nmse_cesm2[\"MAM\"],\n",
    "    nmse_dat[\"MAM\"],\n",
    "    nmse_base_dat[\"MAM\"],\n",
    "    0.55,\n",
    "    0.95,\n",
    "    0.57,\n",
    "    0.72,\n",
    "    \"NMSE, SLP, MAM\",\n",
    ")\n",
    "ax = plotnmse(\n",
    "    fig,\n",
    "    nmse_cmip6[\"JJA\"],\n",
    "    nmse_cesm2[\"JJA\"],\n",
    "    nmse_dat[\"JJA\"],\n",
    "    nmse_base_dat[\"JJA\"],\n",
    "    0.05,\n",
    "    0.45,\n",
    "    0.37,\n",
    "    0.52,\n",
    "    \"NMSE, SLP, JJA\",\n",
    ")\n",
    "ax = plotnmse(\n",
    "    fig,\n",
    "    nmse_cmip6[\"SON\"],\n",
    "    nmse_cesm2[\"SON\"],\n",
    "    nmse_dat[\"SON\"],\n",
    "    nmse_base_dat[\"SON\"],\n",
    "    0.55,\n",
    "    0.95,\n",
    "    0.37,\n",
    "    0.52,\n",
    "    \"NMSE, SLP, SON\",\n",
    ")"
   ]
  }
 ],
 "metadata": {
  "kernelspec": {
   "display_name": "Python 3 (ipykernel)",
   "language": "python",
   "name": "cupid-analysis"
  },
  "language_info": {
   "codemirror_mode": {
    "name": "ipython",
    "version": 3
   },
   "file_extension": ".py",
   "mimetype": "text/x-python",
   "name": "python",
   "nbconvert_exporter": "python",
   "pygments_lexer": "ipython3",
   "version": "3.11.4"
  },
  "papermill": {
   "duration": 50.591957,
   "end_time": "2025-10-27T20:58:32.249062",
   "exception": null,
   "input_path": "/glade/derecho/scratch/tking/tmp/tmpzi72xz_8.ipynb",
   "output_path": "/glade/work/tking/cupid_project/other_cupids/234v238/CUPiD/examples/key_metrics/computed_notebooks/atm/Global_PSL_NMSE_compare_obs_lens.ipynb",
   "parameters": {
    "CESM_output_dir": "/glade/campaign/cesm/development/cross-wg/diagnostic_framework/CESM_output_for_testing",
    "base_case_name": "b.e30_alpha07c_cesm.B1850C_LTso.ne30_t232_wgx3.234",
    "base_end_date": "0081-01-01",
    "base_regridded_output": false,
    "base_start_date": "0001-01-01",
    "case_name": "b.e30_alpha07c_cesm.B1850C_LTso.ne30_t232_wgx3.238",
    "end_date": "0045-01-01",
    "lc_kwargs": {
     "threads_per_worker": 1
    },
    "obs_data_dir": "/glade/campaign/cesm/development/cross-wg/diagnostic_framework/CUPiD_obs_data",
    "product": "/glade/work/tking/cupid_project/other_cupids/234v238/CUPiD/examples/key_metrics/computed_notebooks//atm/Global_PSL_NMSE_compare_obs_lens.ipynb",
    "regridded_output": false,
    "serial": false,
    "start_date": "0001-01-01",
    "subset_kwargs": {},
    "ts_dir": null,
    "validation_path": "atm/analysis_datasets/fv0.9x1.25/seasonal_climatology/nmse_validation/PSL/"
   },
   "start_time": "2025-10-27T20:57:41.657105"
  }
 },
 "nbformat": 4,
 "nbformat_minor": 5
}